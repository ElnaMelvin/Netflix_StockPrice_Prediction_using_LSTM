{
 "cells": [
  {
   "cell_type": "code",
   "execution_count": 1,
   "id": "da565081",
   "metadata": {},
   "outputs": [],
   "source": [
    "#importing necessary libraries\n",
    "\n",
    "#for computation\n",
    "import pandas as pd\n",
    "import numpy as np\n",
    "import math\n",
    "\n",
    "#for visualisation\n",
    "import matplotlib.pyplot as plt\n",
    "\n",
    "#for scaling,metrics and tensorflow\n",
    "import tensorflow as tf\n",
    "from sklearn.metrics import mean_squared_error\n",
    "from sklearn.preprocessing import MinMaxScaler\n",
    "\n",
    "#for building LSTM model\n",
    "from tensorflow.keras.models import Sequential\n",
    "from tensorflow.keras.layers import Dense\n",
    "from tensorflow.keras.layers import Dropout\n",
    "from tensorflow.keras.layers import LSTM"
   ]
  },
  {
   "cell_type": "code",
   "execution_count": 2,
   "id": "12f8ab06",
   "metadata": {},
   "outputs": [],
   "source": [
    "df=pd.read_csv(\"netflix.csv\")"
   ]
  },
  {
   "cell_type": "code",
   "execution_count": 3,
   "id": "1840ed63",
   "metadata": {},
   "outputs": [
    {
     "data": {
      "text/html": [
       "<div>\n",
       "<style scoped>\n",
       "    .dataframe tbody tr th:only-of-type {\n",
       "        vertical-align: middle;\n",
       "    }\n",
       "\n",
       "    .dataframe tbody tr th {\n",
       "        vertical-align: top;\n",
       "    }\n",
       "\n",
       "    .dataframe thead th {\n",
       "        text-align: right;\n",
       "    }\n",
       "</style>\n",
       "<table border=\"1\" class=\"dataframe\">\n",
       "  <thead>\n",
       "    <tr style=\"text-align: right;\">\n",
       "      <th></th>\n",
       "      <th>Date</th>\n",
       "      <th>Open</th>\n",
       "      <th>High</th>\n",
       "      <th>Low</th>\n",
       "      <th>Close</th>\n",
       "      <th>Adj Close</th>\n",
       "      <th>Volume</th>\n",
       "    </tr>\n",
       "  </thead>\n",
       "  <tbody>\n",
       "    <tr>\n",
       "      <th>0</th>\n",
       "      <td>2018-02-05</td>\n",
       "      <td>262.000000</td>\n",
       "      <td>267.899994</td>\n",
       "      <td>250.029999</td>\n",
       "      <td>254.259995</td>\n",
       "      <td>254.259995</td>\n",
       "      <td>11896100</td>\n",
       "    </tr>\n",
       "    <tr>\n",
       "      <th>1</th>\n",
       "      <td>2018-02-06</td>\n",
       "      <td>247.699997</td>\n",
       "      <td>266.700012</td>\n",
       "      <td>245.000000</td>\n",
       "      <td>265.720001</td>\n",
       "      <td>265.720001</td>\n",
       "      <td>12595800</td>\n",
       "    </tr>\n",
       "    <tr>\n",
       "      <th>2</th>\n",
       "      <td>2018-02-07</td>\n",
       "      <td>266.579987</td>\n",
       "      <td>272.450012</td>\n",
       "      <td>264.329987</td>\n",
       "      <td>264.559998</td>\n",
       "      <td>264.559998</td>\n",
       "      <td>8981500</td>\n",
       "    </tr>\n",
       "    <tr>\n",
       "      <th>3</th>\n",
       "      <td>2018-02-08</td>\n",
       "      <td>267.079987</td>\n",
       "      <td>267.619995</td>\n",
       "      <td>250.000000</td>\n",
       "      <td>250.100006</td>\n",
       "      <td>250.100006</td>\n",
       "      <td>9306700</td>\n",
       "    </tr>\n",
       "    <tr>\n",
       "      <th>4</th>\n",
       "      <td>2018-02-09</td>\n",
       "      <td>253.850006</td>\n",
       "      <td>255.800003</td>\n",
       "      <td>236.110001</td>\n",
       "      <td>249.470001</td>\n",
       "      <td>249.470001</td>\n",
       "      <td>16906900</td>\n",
       "    </tr>\n",
       "  </tbody>\n",
       "</table>\n",
       "</div>"
      ],
      "text/plain": [
       "         Date        Open        High         Low       Close   Adj Close  \\\n",
       "0  2018-02-05  262.000000  267.899994  250.029999  254.259995  254.259995   \n",
       "1  2018-02-06  247.699997  266.700012  245.000000  265.720001  265.720001   \n",
       "2  2018-02-07  266.579987  272.450012  264.329987  264.559998  264.559998   \n",
       "3  2018-02-08  267.079987  267.619995  250.000000  250.100006  250.100006   \n",
       "4  2018-02-09  253.850006  255.800003  236.110001  249.470001  249.470001   \n",
       "\n",
       "     Volume  \n",
       "0  11896100  \n",
       "1  12595800  \n",
       "2   8981500  \n",
       "3   9306700  \n",
       "4  16906900  "
      ]
     },
     "execution_count": 3,
     "metadata": {},
     "output_type": "execute_result"
    }
   ],
   "source": [
    "df.head()"
   ]
  },
  {
   "cell_type": "code",
   "execution_count": 4,
   "id": "d7c51382",
   "metadata": {},
   "outputs": [
    {
     "data": {
      "text/plain": [
       "0    254.259995\n",
       "1    265.720001\n",
       "2    264.559998\n",
       "3    250.100006\n",
       "4    249.470001\n",
       "Name: Close, dtype: float64"
      ]
     },
     "execution_count": 4,
     "metadata": {},
     "output_type": "execute_result"
    }
   ],
   "source": [
    "#choosing the required feature\n",
    "closed_price=df['Close']\n",
    "closed_price.head()"
   ]
  },
  {
   "cell_type": "code",
   "execution_count": 5,
   "id": "d21933c8",
   "metadata": {},
   "outputs": [],
   "source": [
    "#Scaling the data using MinMax Scaler\n",
    "sc=MinMaxScaler()\n",
    "closed_price=sc.fit_transform(np.array(closed_price).reshape(-1,1)).squeeze()"
   ]
  },
  {
   "cell_type": "code",
   "execution_count": 6,
   "id": "837084e0",
   "metadata": {},
   "outputs": [],
   "source": [
    "#splitting the data\n",
    "train_size=int(len(closed_price)*0.8)\n",
    "test_size=len(closed_price)-train_size\n",
    "\n",
    "train,test=closed_price[0:train_size],closed_price[train_size:len(closed_price)]"
   ]
  },
  {
   "cell_type": "code",
   "execution_count": 7,
   "id": "cec11c99",
   "metadata": {},
   "outputs": [],
   "source": [
    "#converting to array\n",
    "def create(dataset,seq_len):\n",
    "    x,y=[],[]\n",
    "    for i in range(len(dataset)-seq_len-1):\n",
    "        x.append(dataset[i:i+seq_len])\n",
    "        y.append(dataset[i+seq_len])\n",
    "    return np.array(x),np.array(y)\n",
    "\n",
    "seq_len=10\n",
    "xtrain,ytrain=create(train,seq_len)\n",
    "xtest,ytest=create(test,seq_len)"
   ]
  },
  {
   "cell_type": "code",
   "execution_count": 8,
   "id": "7e9e6b61",
   "metadata": {},
   "outputs": [
    {
     "data": {
      "text/plain": [
       "(796, 10)"
      ]
     },
     "execution_count": 8,
     "metadata": {},
     "output_type": "execute_result"
    }
   ],
   "source": [
    "xtrain.shape"
   ]
  },
  {
   "cell_type": "code",
   "execution_count": 9,
   "id": "10df1e99",
   "metadata": {},
   "outputs": [
    {
     "data": {
      "text/plain": [
       "(796,)"
      ]
     },
     "execution_count": 9,
     "metadata": {},
     "output_type": "execute_result"
    }
   ],
   "source": [
    "ytrain.shape"
   ]
  },
  {
   "cell_type": "code",
   "execution_count": 10,
   "id": "6c01d427",
   "metadata": {},
   "outputs": [
    {
     "data": {
      "text/plain": [
       "(191, 10)"
      ]
     },
     "execution_count": 10,
     "metadata": {},
     "output_type": "execute_result"
    }
   ],
   "source": [
    "xtest.shape"
   ]
  },
  {
   "cell_type": "code",
   "execution_count": 11,
   "id": "6f20ec1b",
   "metadata": {},
   "outputs": [
    {
     "data": {
      "text/plain": [
       "(191,)"
      ]
     },
     "execution_count": 11,
     "metadata": {},
     "output_type": "execute_result"
    }
   ],
   "source": [
    "ytest.shape"
   ]
  },
  {
   "cell_type": "code",
   "execution_count": 12,
   "id": "20c5faae",
   "metadata": {},
   "outputs": [],
   "source": [
    "#reshape input to be [samples,time,steps,features]\n",
    "xtrain=np.reshape(xtrain,(xtrain.shape[0],1,xtrain.shape[1]))\n",
    "xtest=np.reshape(xtest,(xtest.shape[0],1,xtest.shape[1]))"
   ]
  },
  {
   "cell_type": "code",
   "execution_count": 13,
   "id": "ccd528bd",
   "metadata": {},
   "outputs": [
    {
     "data": {
      "text/plain": [
       "(796, 1, 10)"
      ]
     },
     "execution_count": 13,
     "metadata": {},
     "output_type": "execute_result"
    }
   ],
   "source": [
    "xtrain.shape"
   ]
  },
  {
   "cell_type": "code",
   "execution_count": 14,
   "id": "226b8d04",
   "metadata": {},
   "outputs": [
    {
     "name": "stdout",
     "output_type": "stream",
     "text": [
      "Epoch 1/100\n",
      "3/3 [==============================] - 5s 8ms/step - loss: 0.0919\n",
      "Epoch 2/100\n",
      "3/3 [==============================] - 0s 18ms/step - loss: 0.0858\n",
      "Epoch 3/100\n",
      "3/3 [==============================] - 0s 12ms/step - loss: 0.0790\n",
      "Epoch 4/100\n",
      "3/3 [==============================] - 0s 6ms/step - loss: 0.0728\n",
      "Epoch 5/100\n",
      "3/3 [==============================] - 0s 7ms/step - loss: 0.0686\n",
      "Epoch 6/100\n",
      "3/3 [==============================] - 0s 6ms/step - loss: 0.0636\n",
      "Epoch 7/100\n",
      "3/3 [==============================] - 0s 14ms/step - loss: 0.0567\n",
      "Epoch 8/100\n",
      "3/3 [==============================] - 0s 5ms/step - loss: 0.0562\n",
      "Epoch 9/100\n",
      "3/3 [==============================] - 0s 8ms/step - loss: 0.0497\n",
      "Epoch 10/100\n",
      "3/3 [==============================] - 0s 6ms/step - loss: 0.0471\n",
      "Epoch 11/100\n",
      "3/3 [==============================] - 0s 12ms/step - loss: 0.0422\n",
      "Epoch 12/100\n",
      "3/3 [==============================] - 0s 8ms/step - loss: 0.0398\n",
      "Epoch 13/100\n",
      "3/3 [==============================] - 0s 13ms/step - loss: 0.0358\n",
      "Epoch 14/100\n",
      "3/3 [==============================] - 0s 9ms/step - loss: 0.0317\n",
      "Epoch 15/100\n",
      "3/3 [==============================] - 0s 8ms/step - loss: 0.0296\n",
      "Epoch 16/100\n",
      "3/3 [==============================] - 0s 4ms/step - loss: 0.0254\n",
      "Epoch 17/100\n",
      "3/3 [==============================] - 0s 6ms/step - loss: 0.0254\n",
      "Epoch 18/100\n",
      "3/3 [==============================] - 0s 11ms/step - loss: 0.0217\n",
      "Epoch 19/100\n",
      "3/3 [==============================] - 0s 13ms/step - loss: 0.0205\n",
      "Epoch 20/100\n",
      "3/3 [==============================] - 0s 9ms/step - loss: 0.0190\n",
      "Epoch 21/100\n",
      "3/3 [==============================] - 0s 12ms/step - loss: 0.0174\n",
      "Epoch 22/100\n",
      "3/3 [==============================] - 0s 11ms/step - loss: 0.0157\n",
      "Epoch 23/100\n",
      "3/3 [==============================] - 0s 10ms/step - loss: 0.0149\n",
      "Epoch 24/100\n",
      "3/3 [==============================] - 0s 10ms/step - loss: 0.0142\n",
      "Epoch 25/100\n",
      "3/3 [==============================] - 0s 12ms/step - loss: 0.0152\n",
      "Epoch 26/100\n",
      "3/3 [==============================] - 0s 19ms/step - loss: 0.0138\n",
      "Epoch 27/100\n",
      "3/3 [==============================] - 0s 9ms/step - loss: 0.0142\n",
      "Epoch 28/100\n",
      "3/3 [==============================] - 0s 9ms/step - loss: 0.0133\n",
      "Epoch 29/100\n",
      "3/3 [==============================] - 0s 9ms/step - loss: 0.0131\n",
      "Epoch 30/100\n",
      "3/3 [==============================] - 0s 8ms/step - loss: 0.0126\n",
      "Epoch 31/100\n",
      "3/3 [==============================] - 0s 8ms/step - loss: 0.0136\n",
      "Epoch 32/100\n",
      "3/3 [==============================] - 0s 9ms/step - loss: 0.0123\n",
      "Epoch 33/100\n",
      "3/3 [==============================] - 0s 9ms/step - loss: 0.0130\n",
      "Epoch 34/100\n",
      "3/3 [==============================] - 0s 10ms/step - loss: 0.0126\n",
      "Epoch 35/100\n",
      "3/3 [==============================] - 0s 11ms/step - loss: 0.0117\n",
      "Epoch 36/100\n",
      "3/3 [==============================] - 0s 8ms/step - loss: 0.0109\n",
      "Epoch 37/100\n",
      "3/3 [==============================] - 0s 10ms/step - loss: 0.0124\n",
      "Epoch 38/100\n",
      "3/3 [==============================] - 0s 11ms/step - loss: 0.0115\n",
      "Epoch 39/100\n",
      "3/3 [==============================] - 0s 11ms/step - loss: 0.0125\n",
      "Epoch 40/100\n",
      "3/3 [==============================] - 0s 10ms/step - loss: 0.0110\n",
      "Epoch 41/100\n",
      "3/3 [==============================] - 0s 10ms/step - loss: 0.0121\n",
      "Epoch 42/100\n",
      "3/3 [==============================] - 0s 12ms/step - loss: 0.0099\n",
      "Epoch 43/100\n",
      "3/3 [==============================] - 0s 12ms/step - loss: 0.0117\n",
      "Epoch 44/100\n",
      "3/3 [==============================] - 0s 8ms/step - loss: 0.0105\n",
      "Epoch 45/100\n",
      "3/3 [==============================] - 0s 13ms/step - loss: 0.0113\n",
      "Epoch 46/100\n",
      "3/3 [==============================] - 0s 11ms/step - loss: 0.0112\n",
      "Epoch 47/100\n",
      "3/3 [==============================] - 0s 10ms/step - loss: 0.0104\n",
      "Epoch 48/100\n",
      "3/3 [==============================] - 0s 10ms/step - loss: 0.0108\n",
      "Epoch 49/100\n",
      "3/3 [==============================] - 0s 9ms/step - loss: 0.0107\n",
      "Epoch 50/100\n",
      "3/3 [==============================] - 0s 8ms/step - loss: 0.0114\n",
      "Epoch 51/100\n",
      "3/3 [==============================] - 0s 14ms/step - loss: 0.0095\n",
      "Epoch 52/100\n",
      "3/3 [==============================] - 0s 11ms/step - loss: 0.0099\n",
      "Epoch 53/100\n",
      "3/3 [==============================] - 0s 13ms/step - loss: 0.0096\n",
      "Epoch 54/100\n",
      "3/3 [==============================] - 0s 13ms/step - loss: 0.0094\n",
      "Epoch 55/100\n",
      "3/3 [==============================] - 0s 11ms/step - loss: 0.0110\n",
      "Epoch 56/100\n",
      "3/3 [==============================] - 0s 10ms/step - loss: 0.0102\n",
      "Epoch 57/100\n",
      "3/3 [==============================] - 0s 12ms/step - loss: 0.0089\n",
      "Epoch 58/100\n",
      "3/3 [==============================] - 0s 10ms/step - loss: 0.0089\n",
      "Epoch 59/100\n",
      "3/3 [==============================] - 0s 11ms/step - loss: 0.0087\n",
      "Epoch 60/100\n",
      "3/3 [==============================] - 0s 11ms/step - loss: 0.0090\n",
      "Epoch 61/100\n",
      "3/3 [==============================] - 0s 15ms/step - loss: 0.0096\n",
      "Epoch 62/100\n",
      "3/3 [==============================] - 0s 12ms/step - loss: 0.0089\n",
      "Epoch 63/100\n",
      "3/3 [==============================] - 0s 12ms/step - loss: 0.0087\n",
      "Epoch 64/100\n",
      "3/3 [==============================] - 0s 10ms/step - loss: 0.0091\n",
      "Epoch 65/100\n",
      "3/3 [==============================] - 0s 10ms/step - loss: 0.0087\n",
      "Epoch 66/100\n",
      "3/3 [==============================] - 0s 9ms/step - loss: 0.0100\n",
      "Epoch 67/100\n",
      "3/3 [==============================] - 0s 7ms/step - loss: 0.0092\n",
      "Epoch 68/100\n",
      "3/3 [==============================] - 0s 9ms/step - loss: 0.0087\n",
      "Epoch 69/100\n",
      "3/3 [==============================] - 0s 9ms/step - loss: 0.0085\n",
      "Epoch 70/100\n",
      "3/3 [==============================] - 0s 10ms/step - loss: 0.0084\n",
      "Epoch 71/100\n",
      "3/3 [==============================] - 0s 9ms/step - loss: 0.0084\n",
      "Epoch 72/100\n",
      "3/3 [==============================] - 0s 9ms/step - loss: 0.0078\n",
      "Epoch 73/100\n",
      "3/3 [==============================] - 0s 11ms/step - loss: 0.0089\n",
      "Epoch 74/100\n",
      "3/3 [==============================] - 0s 11ms/step - loss: 0.0086\n",
      "Epoch 75/100\n",
      "3/3 [==============================] - 0s 9ms/step - loss: 0.0089\n",
      "Epoch 76/100\n",
      "3/3 [==============================] - 0s 14ms/step - loss: 0.0078\n",
      "Epoch 77/100\n",
      "3/3 [==============================] - 0s 11ms/step - loss: 0.0090\n",
      "Epoch 78/100\n",
      "3/3 [==============================] - 0s 15ms/step - loss: 0.0077\n",
      "Epoch 79/100\n",
      "3/3 [==============================] - 0s 9ms/step - loss: 0.0090\n",
      "Epoch 80/100\n",
      "3/3 [==============================] - 0s 10ms/step - loss: 0.0079\n",
      "Epoch 81/100\n",
      "3/3 [==============================] - 0s 9ms/step - loss: 0.0087\n",
      "Epoch 82/100\n",
      "3/3 [==============================] - 0s 11ms/step - loss: 0.0090\n",
      "Epoch 83/100\n",
      "3/3 [==============================] - 0s 10ms/step - loss: 0.0068\n",
      "Epoch 84/100\n",
      "3/3 [==============================] - 0s 10ms/step - loss: 0.0099\n",
      "Epoch 85/100\n",
      "3/3 [==============================] - 0s 9ms/step - loss: 0.0080\n",
      "Epoch 86/100\n",
      "3/3 [==============================] - 0s 9ms/step - loss: 0.0071\n",
      "Epoch 87/100\n",
      "3/3 [==============================] - 0s 8ms/step - loss: 0.0087\n",
      "Epoch 88/100\n",
      "3/3 [==============================] - 0s 9ms/step - loss: 0.0070\n",
      "Epoch 89/100\n",
      "3/3 [==============================] - 0s 9ms/step - loss: 0.0078\n",
      "Epoch 90/100\n",
      "3/3 [==============================] - 0s 9ms/step - loss: 0.0072\n",
      "Epoch 91/100\n",
      "3/3 [==============================] - 0s 9ms/step - loss: 0.0097\n",
      "Epoch 92/100\n",
      "3/3 [==============================] - 0s 10ms/step - loss: 0.0070\n",
      "Epoch 93/100\n",
      "3/3 [==============================] - 0s 25ms/step - loss: 0.0075\n",
      "Epoch 94/100\n",
      "3/3 [==============================] - 0s 10ms/step - loss: 0.0086\n",
      "Epoch 95/100\n",
      "3/3 [==============================] - 0s 12ms/step - loss: 0.0075\n",
      "Epoch 96/100\n",
      "3/3 [==============================] - 0s 11ms/step - loss: 0.0070\n",
      "Epoch 97/100\n",
      "3/3 [==============================] - 0s 9ms/step - loss: 0.0070\n",
      "Epoch 98/100\n",
      "3/3 [==============================] - 0s 11ms/step - loss: 0.0079\n",
      "Epoch 99/100\n",
      "3/3 [==============================] - 0s 9ms/step - loss: 0.0073\n",
      "Epoch 100/100\n",
      "3/3 [==============================] - 0s 7ms/step - loss: 0.0077\n"
     ]
    },
    {
     "data": {
      "text/plain": [
       "<keras.src.callbacks.History at 0x29ca254ba90>"
      ]
     },
     "execution_count": 14,
     "metadata": {},
     "output_type": "execute_result"
    }
   ],
   "source": [
    "#building model\n",
    "model=Sequential()\n",
    "model.add(LSTM(4,input_shape=(1,seq_len)))\n",
    "model.add(Dropout(0.2))\n",
    "model.add(Dense(1))\n",
    "\n",
    "model.compile(optimizer='adam',loss='mean_squared_error')\n",
    "model.fit(xtrain,ytrain,epochs=100,batch_size=300,verbose=1)"
   ]
  },
  {
   "cell_type": "code",
   "execution_count": 15,
   "id": "76abfcda",
   "metadata": {},
   "outputs": [
    {
     "name": "stdout",
     "output_type": "stream",
     "text": [
      "25/25 [==============================] - 1s 4ms/step\n",
      "6/6 [==============================] - 0s 3ms/step\n"
     ]
    }
   ],
   "source": [
    "#prediction\n",
    "trainpredict=model.predict(xtrain)\n",
    "testpredict=model.predict(xtest)"
   ]
  },
  {
   "cell_type": "code",
   "execution_count": 16,
   "id": "5e6b6377",
   "metadata": {},
   "outputs": [],
   "source": [
    "trainpredict=sc.inverse_transform(trainpredict)\n",
    "ytrain=sc.inverse_transform([ytrain])\n",
    "testpredict=sc.inverse_transform(testpredict)\n",
    "ytest=sc.inverse_transform([ytest])"
   ]
  },
  {
   "cell_type": "code",
   "execution_count": 17,
   "id": "afa8e117",
   "metadata": {},
   "outputs": [
    {
     "name": "stdout",
     "output_type": "stream",
     "text": [
      "trainscore: 17.96 \n",
      "test score: 42.00 \n"
     ]
    }
   ],
   "source": [
    "#finding out RMSE value\n",
    "\n",
    "trainscore=math.sqrt(mean_squared_error(ytrain[0],trainpredict[:,0]))\n",
    "print(\"trainscore: %.2f \"%(trainscore))\n",
    "testscore=math.sqrt(mean_squared_error(ytest[0],testpredict[:,0]))\n",
    "print(\"test score: %.2f \"%(testscore))"
   ]
  },
  {
   "cell_type": "code",
   "execution_count": 18,
   "id": "4ab5ff40",
   "metadata": {},
   "outputs": [
    {
     "data": {
      "image/png": "[encoded data removed]",
      "text/plain": [
       "<Figure size 1200x600 with 1 Axes>"
      ]
     },
     "metadata": {},
     "output_type": "display_data"
    }
   ],
   "source": [
    "plt.figure(figsize=(12, 6))\n",
    "plt.plot(ytrain[0], label='Actual (Train)', color='blue')\n",
    "plt.plot(trainpredict[:, 0], label='Predicted (Train)', color='green')\n",
    "plt.plot(len(ytrain[0]) + np.arange(1, len(ytest[0]) + 1), ytest[0], label='Actual (Test)', color='red')\n",
    "plt.plot(len(ytrain[0]) + np.arange(1, len(ytest[0]) + 1), testpredict[:, 0], label='Predicted (Test)', color='orange')\n",
    "plt.xlabel('Time Steps')\n",
    "plt.ylabel('Scaled Value')\n",
    "plt.legend()\n",
    "plt.title('Actual vs. Predicted Prices')\n",
    "plt.show()"
   ]
  },
  {
   "cell_type": "code",
   "execution_count": null,
   "id": "de4830dd",
   "metadata": {},
   "outputs": [],
   "source": []
  }
 ],
 "metadata": {
  "kernelspec": {
   "display_name": "Python 3 (ipykernel)",
   "language": "python",
   "name": "python3"
  },
  "language_info": {
   "codemirror_mode": {
    "name": "ipython",
    "version": 3
   },
   "file_extension": ".py",
   "mimetype": "text/x-python",
   "name": "python",
   "nbconvert_exporter": "python",
   "pygments_lexer": "ipython3",
   "version": "3.11.3"
  }
 },
 "nbformat": 4,
 "nbformat_minor": 5
}
